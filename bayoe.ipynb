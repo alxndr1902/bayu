{
 "cells": [
  {
   "cell_type": "code",
   "execution_count": 185,
   "metadata": {},
   "outputs": [],
   "source": [
    "import pandas as pd\n",
    "from sklearn.preprocessing import LabelEncoder\n",
    "from sklearn.model_selection import train_test_split\n",
    "from sklearn.impute import SimpleImputer\n",
    "import numpy as np\n",
    "from sklearn.preprocessing import StandardScaler\n"
   ]
  },
  {
   "cell_type": "code",
   "execution_count": 190,
   "metadata": {},
   "outputs": [
    {
     "data": {
      "text/html": [
       "<div>\n",
       "<style scoped>\n",
       "    .dataframe tbody tr th:only-of-type {\n",
       "        vertical-align: middle;\n",
       "    }\n",
       "\n",
       "    .dataframe tbody tr th {\n",
       "        vertical-align: top;\n",
       "    }\n",
       "\n",
       "    .dataframe thead th {\n",
       "        text-align: right;\n",
       "    }\n",
       "</style>\n",
       "<table border=\"1\" class=\"dataframe\">\n",
       "  <thead>\n",
       "    <tr style=\"text-align: right;\">\n",
       "      <th></th>\n",
       "      <th>tingkat_sekolah</th>\n",
       "      <th>jenis_sekolah</th>\n",
       "      <th>jumlah_sekolah</th>\n",
       "      <th>jumlah_guru</th>\n",
       "      <th>jumlah_murid</th>\n",
       "      <th>jumlah_kelas</th>\n",
       "    </tr>\n",
       "  </thead>\n",
       "  <tbody>\n",
       "    <tr>\n",
       "      <th>0</th>\n",
       "      <td>TK</td>\n",
       "      <td>Negeri</td>\n",
       "      <td>9.0</td>\n",
       "      <td>58</td>\n",
       "      <td>521.0</td>\n",
       "      <td>35</td>\n",
       "    </tr>\n",
       "    <tr>\n",
       "      <th>1</th>\n",
       "      <td>TK</td>\n",
       "      <td>Swasta</td>\n",
       "      <td>1781.0</td>\n",
       "      <td>8646</td>\n",
       "      <td>92775.0</td>\n",
       "      <td>5179</td>\n",
       "    </tr>\n",
       "    <tr>\n",
       "      <th>2</th>\n",
       "      <td>TK</td>\n",
       "      <td>Negeri</td>\n",
       "      <td>9.0</td>\n",
       "      <td>58</td>\n",
       "      <td>673.0</td>\n",
       "      <td>35</td>\n",
       "    </tr>\n",
       "    <tr>\n",
       "      <th>3</th>\n",
       "      <td>TK</td>\n",
       "      <td>Swasta</td>\n",
       "      <td>1432.0</td>\n",
       "      <td>10064</td>\n",
       "      <td>81050.0</td>\n",
       "      <td>4524</td>\n",
       "    </tr>\n",
       "    <tr>\n",
       "      <th>4</th>\n",
       "      <td>TK</td>\n",
       "      <td>NaN</td>\n",
       "      <td>9.0</td>\n",
       "      <td>103</td>\n",
       "      <td>836.0</td>\n",
       "      <td>35</td>\n",
       "    </tr>\n",
       "  </tbody>\n",
       "</table>\n",
       "</div>"
      ],
      "text/plain": [
       "  tingkat_sekolah jenis_sekolah   jumlah_sekolah    jumlah_guru   \\\n",
       "0              TK        Negeri               9.0             58   \n",
       "1              TK        Swasta            1781.0           8646   \n",
       "2              TK        Negeri               9.0             58   \n",
       "3              TK        Swasta            1432.0          10064   \n",
       "4              TK           NaN               9.0            103   \n",
       "\n",
       "    jumlah_murid    jumlah_kelas   \n",
       "0           521.0              35  \n",
       "1         92775.0            5179  \n",
       "2           673.0              35  \n",
       "3         81050.0            4524  \n",
       "4           836.0              35  "
      ]
     },
     "execution_count": 190,
     "metadata": {},
     "output_type": "execute_result"
    }
   ],
   "source": [
    "data = pd.read_csv('bayu.csv')\n",
    "data.head()\n"
   ]
  },
  {
   "cell_type": "code",
   "execution_count": 147,
   "metadata": {},
   "outputs": [
    {
     "data": {
      "text/plain": [
       "tingkat_sekolah     0\n",
       "jenis_sekolah       1\n",
       " jumlah_sekolah     1\n",
       " jumlah_guru        0\n",
       " jumlah_murid       1\n",
       " jumlah_kelas       0\n",
       "dtype: int64"
      ]
     },
     "execution_count": 147,
     "metadata": {},
     "output_type": "execute_result"
    }
   ],
   "source": [
    "data.isnull().sum()"
   ]
  },
  {
   "cell_type": "code",
   "execution_count": 148,
   "metadata": {},
   "outputs": [
    {
     "name": "stdout",
     "output_type": "stream",
     "text": [
      "tingkat_sekolah      object\n",
      "jenis_sekolah        object\n",
      " jumlah_sekolah     float64\n",
      " jumlah_guru          int64\n",
      " jumlah_murid       float64\n",
      " jumlah_kelas         int64\n",
      "dtype: object\n"
     ]
    }
   ],
   "source": [
    "print(data.dtypes)"
   ]
  },
  {
   "cell_type": "code",
   "execution_count": 189,
   "metadata": {},
   "outputs": [
    {
     "data": {
      "text/html": [
       "<div>\n",
       "<style scoped>\n",
       "    .dataframe tbody tr th:only-of-type {\n",
       "        vertical-align: middle;\n",
       "    }\n",
       "\n",
       "    .dataframe tbody tr th {\n",
       "        vertical-align: top;\n",
       "    }\n",
       "\n",
       "    .dataframe thead th {\n",
       "        text-align: right;\n",
       "    }\n",
       "</style>\n",
       "<table border=\"1\" class=\"dataframe\">\n",
       "  <thead>\n",
       "    <tr style=\"text-align: right;\">\n",
       "      <th></th>\n",
       "      <th>tingkat_sekolah</th>\n",
       "      <th>jenis_sekolah</th>\n",
       "      <th>jumlah_sekolah</th>\n",
       "      <th>jumlah_guru</th>\n",
       "      <th>jumlah_murid</th>\n",
       "      <th>jumlah_kelas</th>\n",
       "    </tr>\n",
       "  </thead>\n",
       "  <tbody>\n",
       "    <tr>\n",
       "      <th>0</th>\n",
       "      <td>4</td>\n",
       "      <td>0</td>\n",
       "      <td>9.0</td>\n",
       "      <td>58</td>\n",
       "      <td>521.0</td>\n",
       "      <td>35</td>\n",
       "    </tr>\n",
       "    <tr>\n",
       "      <th>1</th>\n",
       "      <td>4</td>\n",
       "      <td>1</td>\n",
       "      <td>1781.0</td>\n",
       "      <td>8646</td>\n",
       "      <td>92775.0</td>\n",
       "      <td>5179</td>\n",
       "    </tr>\n",
       "    <tr>\n",
       "      <th>2</th>\n",
       "      <td>4</td>\n",
       "      <td>0</td>\n",
       "      <td>9.0</td>\n",
       "      <td>58</td>\n",
       "      <td>673.0</td>\n",
       "      <td>35</td>\n",
       "    </tr>\n",
       "    <tr>\n",
       "      <th>3</th>\n",
       "      <td>4</td>\n",
       "      <td>1</td>\n",
       "      <td>1432.0</td>\n",
       "      <td>10064</td>\n",
       "      <td>81050.0</td>\n",
       "      <td>4524</td>\n",
       "    </tr>\n",
       "    <tr>\n",
       "      <th>4</th>\n",
       "      <td>4</td>\n",
       "      <td>1</td>\n",
       "      <td>9.0</td>\n",
       "      <td>103</td>\n",
       "      <td>836.0</td>\n",
       "      <td>35</td>\n",
       "    </tr>\n",
       "  </tbody>\n",
       "</table>\n",
       "</div>"
      ],
      "text/plain": [
       "   tingkat_sekolah  jenis_sekolah   jumlah_sekolah    jumlah_guru   \\\n",
       "0                4              0               9.0             58   \n",
       "1                4              1            1781.0           8646   \n",
       "2                4              0               9.0             58   \n",
       "3                4              1            1432.0          10064   \n",
       "4                4              1               9.0            103   \n",
       "\n",
       "    jumlah_murid    jumlah_kelas   \n",
       "0           521.0              35  \n",
       "1         92775.0            5179  \n",
       "2           673.0              35  \n",
       "3         81050.0            4524  \n",
       "4           836.0              35  "
      ]
     },
     "execution_count": 189,
     "metadata": {},
     "output_type": "execute_result"
    }
   ],
   "source": [
    "# 1.kolom yang ada missing values, dihapus\n",
    "mv = data['jenis_sekolah'].mode()[0]\n",
    "data['jenis_sekolah'] = data['jenis_sekolah'].fillna(mv)\n",
    "\n",
    "imputer = SimpleImputer(missing_values=np.nan, strategy='mean')\n",
    "missing_columns = [2, 4]\n",
    "data.iloc[:, missing_columns] = imputer.fit_transform(data.iloc[:, missing_columns])\n",
    "\n",
    "data.head()"
   ]
  },
  {
   "cell_type": "code",
   "execution_count": 187,
   "metadata": {},
   "outputs": [
    {
     "data": {
      "text/html": [
       "<div>\n",
       "<style scoped>\n",
       "    .dataframe tbody tr th:only-of-type {\n",
       "        vertical-align: middle;\n",
       "    }\n",
       "\n",
       "    .dataframe tbody tr th {\n",
       "        vertical-align: top;\n",
       "    }\n",
       "\n",
       "    .dataframe thead th {\n",
       "        text-align: right;\n",
       "    }\n",
       "</style>\n",
       "<table border=\"1\" class=\"dataframe\">\n",
       "  <thead>\n",
       "    <tr style=\"text-align: right;\">\n",
       "      <th></th>\n",
       "      <th>tingkat_sekolah</th>\n",
       "      <th>jenis_sekolah</th>\n",
       "      <th>jumlah_sekolah</th>\n",
       "      <th>jumlah_guru</th>\n",
       "      <th>jumlah_murid</th>\n",
       "      <th>jumlah_kelas</th>\n",
       "    </tr>\n",
       "  </thead>\n",
       "  <tbody>\n",
       "    <tr>\n",
       "      <th>0</th>\n",
       "      <td>4</td>\n",
       "      <td>0</td>\n",
       "      <td>9.0</td>\n",
       "      <td>58</td>\n",
       "      <td>521.0</td>\n",
       "      <td>35</td>\n",
       "    </tr>\n",
       "    <tr>\n",
       "      <th>1</th>\n",
       "      <td>4</td>\n",
       "      <td>1</td>\n",
       "      <td>1781.0</td>\n",
       "      <td>8646</td>\n",
       "      <td>92775.0</td>\n",
       "      <td>5179</td>\n",
       "    </tr>\n",
       "    <tr>\n",
       "      <th>2</th>\n",
       "      <td>4</td>\n",
       "      <td>0</td>\n",
       "      <td>9.0</td>\n",
       "      <td>58</td>\n",
       "      <td>673.0</td>\n",
       "      <td>35</td>\n",
       "    </tr>\n",
       "    <tr>\n",
       "      <th>3</th>\n",
       "      <td>4</td>\n",
       "      <td>1</td>\n",
       "      <td>1432.0</td>\n",
       "      <td>10064</td>\n",
       "      <td>81050.0</td>\n",
       "      <td>4524</td>\n",
       "    </tr>\n",
       "    <tr>\n",
       "      <th>4</th>\n",
       "      <td>4</td>\n",
       "      <td>1</td>\n",
       "      <td>9.0</td>\n",
       "      <td>103</td>\n",
       "      <td>836.0</td>\n",
       "      <td>35</td>\n",
       "    </tr>\n",
       "  </tbody>\n",
       "</table>\n",
       "</div>"
      ],
      "text/plain": [
       "   tingkat_sekolah  jenis_sekolah   jumlah_sekolah    jumlah_guru   \\\n",
       "0                4              0               9.0             58   \n",
       "1                4              1            1781.0           8646   \n",
       "2                4              0               9.0             58   \n",
       "3                4              1            1432.0          10064   \n",
       "4                4              1               9.0            103   \n",
       "\n",
       "    jumlah_murid    jumlah_kelas   \n",
       "0           521.0              35  \n",
       "1         92775.0            5179  \n",
       "2           673.0              35  \n",
       "3         81050.0            4524  \n",
       "4           836.0              35  "
      ]
     },
     "execution_count": 187,
     "metadata": {},
     "output_type": "execute_result"
    }
   ],
   "source": [
    "# 2. Proses encoding untuk kolom tipe kategori dan object\n",
    "le = LabelEncoder()\n",
    "for col in data.columns:\n",
    "    if data[col].dtype == 'object':\n",
    "        le.fit(data[col])\n",
    "        data[col] = le.transform(data[col])\n",
    "\n",
    "for col in data.columns:\n",
    "    if data[col].dtype == 'category':\n",
    "        le.fit(data[col])\n",
    "        data[col] = le.transform(data[col])\n",
    "data.head()"
   ]
  },
  {
   "cell_type": "code",
   "execution_count": 188,
   "metadata": {},
   "outputs": [],
   "source": [
    "# 3. Split data 70% untuk data training, 30% untuk data training\n",
    "X = data.iloc[:, [0, 2, 3, 4, 5]]\n",
    "y = data.iloc[:, 1]\n",
    "X_train, X_test, y_train, y_test = train_test_split(X, y, test_size=0.3, random_state=0)"
   ]
  },
  {
   "cell_type": "code",
   "execution_count": 186,
   "metadata": {},
   "outputs": [],
   "source": [
    "# 4. normalisasi / standardisasi\n",
    "sc_X = StandardScaler()\n",
    "\n",
    "# We need to fit and transform the training set\n",
    "X_train = sc_X.fit_transform(X_train)\n",
    "\n",
    "# We need to fit the test set\n",
    "X_test = sc_X.transform(X_test)"
   ]
  }
 ],
 "metadata": {
  "kernelspec": {
   "display_name": "Python 3",
   "language": "python",
   "name": "python3"
  },
  "language_info": {
   "codemirror_mode": {
    "name": "ipython",
    "version": 3
   },
   "file_extension": ".py",
   "mimetype": "text/x-python",
   "name": "python",
   "nbconvert_exporter": "python",
   "pygments_lexer": "ipython3",
   "version": "3.9.13"
  },
  "orig_nbformat": 4,
  "vscode": {
   "interpreter": {
    "hash": "6f9cb7733b6419bd33f2b2bb312a093144c891c9309eb45151812d731ca4ccc7"
   }
  }
 },
 "nbformat": 4,
 "nbformat_minor": 2
}
